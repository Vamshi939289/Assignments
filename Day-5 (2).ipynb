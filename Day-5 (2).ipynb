{
  "nbformat": 4,
  "nbformat_minor": 0,
  "metadata": {
    "colab": {
      "provenance": []
    },
    "kernelspec": {
      "name": "python3",
      "display_name": "Python 3"
    },
    "language_info": {
      "name": "python"
    }
  },
  "cells": [
    {
      "cell_type": "code",
      "execution_count": 4,
      "metadata": {
        "colab": {
          "base_uri": "https://localhost:8080/"
        },
        "id": "6zQ_IudQzWMo",
        "outputId": "30fb189a-5452-4375-be36-09ad0d8deea4"
      },
      "outputs": [
        {
          "output_type": "stream",
          "name": "stdout",
          "text": [
            "Hi this is Charan. I am from Hyderabad. My hobby is playing Guitar. This is my Workshop Assignment.\n",
            "hi: 1\n",
            "this: 2\n",
            "is: 3\n",
            "charan.: 1\n",
            "i: 1\n",
            "am: 1\n",
            "from: 1\n",
            "hyderabad.: 1\n",
            "my: 2\n",
            "hobby: 1\n",
            "playing: 1\n",
            "guitar.: 1\n",
            "workshop: 1\n",
            "assignment.: 1\n"
          ]
        }
      ],
      "source": [
        "from collections import Counter\n",
        "\n",
        "def word_frequency(text):\n",
        "    words = text.lower().split()\n",
        "    word_counts = Counter(words)\n",
        "\n",
        "    for word, count in word_counts.items():\n",
        "        print(f\"{word}: {count}\")\n",
        "\n",
        "text = input()\n",
        "word_frequency(text)\n"
      ]
    }
  ]
}