{
 "cells": [
  {
   "cell_type": "code",
   "execution_count": 2,
   "id": "d3f8d588-2095-48cb-9f10-eb5f5b78a521",
   "metadata": {},
   "outputs": [
    {
     "name": "stdout",
     "output_type": "stream",
     "text": [
      "Requirement already satisfied: nltk in c:\\users\\manasa\\anaconda\\lib\\site-packages (3.9.1)\n",
      "Requirement already satisfied: click in c:\\users\\manasa\\anaconda\\lib\\site-packages (from nltk) (8.1.7)\n",
      "Requirement already satisfied: joblib in c:\\users\\manasa\\anaconda\\lib\\site-packages (from nltk) (1.4.2)\n",
      "Requirement already satisfied: regex>=2021.8.3 in c:\\users\\manasa\\anaconda\\lib\\site-packages (from nltk) (2024.9.11)\n",
      "Requirement already satisfied: tqdm in c:\\users\\manasa\\anaconda\\lib\\site-packages (from nltk) (4.66.5)\n",
      "Requirement already satisfied: colorama in c:\\users\\manasa\\anaconda\\lib\\site-packages (from click->nltk) (0.4.6)\n",
      "Note: you may need to restart the kernel to use updated packages.\n"
     ]
    }
   ],
   "source": [
    "pip install nltk\n"
   ]
  },
  {
   "cell_type": "code",
   "execution_count": 4,
   "id": "42d7cec5-4808-4237-9983-aa08431d05cd",
   "metadata": {},
   "outputs": [
    {
     "name": "stdin",
     "output_type": "stream",
     "text": [
      "Enter capital text: HANDS ON PROJECT\n"
     ]
    },
    {
     "name": "stdout",
     "output_type": "stream",
     "text": [
      "hands on project\n"
     ]
    }
   ],
   "source": [
    "#converting into lower case\n",
    "text=input(\"Enter capital text:\")\n",
    "t=text.lower()\n",
    "print(t)"
   ]
  },
  {
   "cell_type": "code",
   "execution_count": 6,
   "id": "3a46f837-c54d-4491-af49-9e40674a1017",
   "metadata": {},
   "outputs": [
    {
     "name": "stdout",
     "output_type": "stream",
     "text": [
      "Filtered Text: Maya found old, dusty journal tucked away grandmother’s attic. leather cover engraved strange symbols, pages filled maps, riddles, sketches unknown creatures. Intrigued, followed first clue, leading forest near home. There, glow full moon, discovered ancient stone archway shimmering blue light.As stepped through, world around shifted, found land stars hung low, air hummed magic.\n"
     ]
    },
    {
     "name": "stderr",
     "output_type": "stream",
     "text": [
      "[nltk_data] Downloading package stopwords to\n",
      "[nltk_data]     C:\\Users\\Manasa\\AppData\\Roaming\\nltk_data...\n",
      "[nltk_data]   Package stopwords is already up-to-date!\n"
     ]
    }
   ],
   "source": [
    "#stop words\n",
    "import nltk\n",
    "from nltk.corpus import stopwords\n",
    "nltk.download('stopwords')\n",
    "text= \"Maya found an old, dusty journal tucked away in her grandmother’s attic. Its leather cover was engraved with strange symbols, and the pages were filled with maps, riddles, and sketches of unknown creatures. Intrigued, she followed the first clue, leading her to the forest near her home. There, under the glow of a full moon, she discovered an ancient stone archway shimmering with blue light.As she stepped through, the world around her shifted, and she found herself in a land where the stars hung low, and the air hummed with magic.\"\n",
    "words = text.split()\n",
    "stop_words = set(stopwords.words('english'))\n",
    "filtered_words = [word for word in words if word.lower() not in stop_words]\n",
    "filtered_text = ' '.join(filtered_words)\n",
    "print(\"Filtered Text:\", filtered_text)"
   ]
  },
  {
   "cell_type": "code",
   "execution_count": null,
   "id": "c85129a8-9089-4e70-ac4d-17bca96d4007",
   "metadata": {},
   "outputs": [],
   "source": []
  }
 ],
 "metadata": {
  "kernelspec": {
   "display_name": "Python [conda env:base] *",
   "language": "python",
   "name": "conda-base-py"
  },
  "language_info": {
   "codemirror_mode": {
    "name": "ipython",
    "version": 3
   },
   "file_extension": ".py",
   "mimetype": "text/x-python",
   "name": "python",
   "nbconvert_exporter": "python",
   "pygments_lexer": "ipython3",
   "version": "3.12.7"
  }
 },
 "nbformat": 4,
 "nbformat_minor": 5
}
