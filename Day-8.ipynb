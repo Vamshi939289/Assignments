{
 "cells": [
  {
   "cell_type": "code",
   "execution_count": 1,
   "id": "4b28b9a2",
   "metadata": {},
   "outputs": [
    {
     "name": "stdout",
     "output_type": "stream",
     "text": [
      "Tokenized Sentences:\n",
      "['The quick brown fox jumps over the lazy dog.', \"However, the fox didn't realize the dog was awake and watching closely.\", 'Jumping over obstacles requires skill, determination, and focus.']\n",
      "\n",
      "Tokenized Words:\n",
      "['The', 'quick', 'brown', 'fox', 'jumps', 'over', 'the', 'lazy', 'dog', '.', 'However', ',', 'the', 'fox', 'did', \"n't\", 'realize', 'the', 'dog', 'was', 'awake', 'and', 'watching', 'closely', '.', 'Jumping', 'over', 'obstacles', 'requires', 'skill', ',', 'determination', ',', 'and', 'focus', '.']\n"
     ]
    },
    {
     "name": "stderr",
     "output_type": "stream",
     "text": [
      "[nltk_data] Downloading package punkt to\n",
      "[nltk_data]     C:\\Users\\Vamshi\\AppData\\Roaming\\nltk_data...\n",
      "[nltk_data]   Package punkt is already up-to-date!\n"
     ]
    }
   ],
   "source": [
    "import nltk\n",
    "from nltk.tokenize import word_tokenize, sent_tokenize\n",
    "\n",
    "# Download necessary NLTK data files\n",
    "nltk.download('punkt')\n",
    "\n",
    "def tokenize_text(paragraph):\n",
    "    \"\"\"Tokenize the input paragraph into words and sentences.\"\"\"\n",
    "    # Tokenize into sentences\n",
    "    sentences = sent_tokenize(paragraph)\n",
    "\n",
    "    # Tokenize into words\n",
    "    words = word_tokenize(paragraph)\n",
    "\n",
    "    return sentences, words\n",
    "\n",
    "if __name__ == \"__main__\":\n",
    "    # Sample paragraph\n",
    "    sample_paragraph = \"\"\"The quick brown fox jumps over the lazy dog. However, the fox didn't realize the dog was awake and watching closely. Jumping over obstacles requires skill, determination, and focus.\"\"\"\n",
    "\n",
    "    # Tokenize the paragraph\n",
    "    sentences, words = tokenize_text(sample_paragraph)\n",
    "\n",
    "    # Display the results\n",
    "    print(\"Tokenized Sentences:\")\n",
    "    print(sentences)\n",
    "    print(\"\\nTokenized Words:\")\n",
    "    print(words)\n"
   ]
  },
  {
   "cell_type": "code",
   "execution_count": null,
   "id": "ce46b29f",
   "metadata": {},
   "outputs": [],
   "source": []
  }
 ],
 "metadata": {
  "kernelspec": {
   "display_name": "Python 3 (ipykernel)",
   "language": "python",
   "name": "python3"
  },
  "language_info": {
   "codemirror_mode": {
    "name": "ipython",
    "version": 3
   },
   "file_extension": ".py",
   "mimetype": "text/x-python",
   "name": "python",
   "nbconvert_exporter": "python",
   "pygments_lexer": "ipython3",
   "version": "3.11.4"
  }
 },
 "nbformat": 4,
 "nbformat_minor": 5
}
