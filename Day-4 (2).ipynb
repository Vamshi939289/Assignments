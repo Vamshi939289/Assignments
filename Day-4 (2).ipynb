{
  "nbformat": 4,
  "nbformat_minor": 0,
  "metadata": {
    "colab": {
      "provenance": []
    },
    "kernelspec": {
      "name": "python3",
      "display_name": "Python 3"
    },
    "language_info": {
      "name": "python"
    }
  },
  "cells": [
    {
      "cell_type": "code",
      "execution_count": 5,
      "metadata": {
        "colab": {
          "base_uri": "https://localhost:8080/"
        },
        "id": "qNBgbA-wstjp",
        "outputId": "767cd638-8d00-4545-ba83-14ec29d1013b"
      },
      "outputs": [
        {
          "output_type": "stream",
          "name": "stdout",
          "text": [
            "Enter a positive integer: 56\n",
            "Sum of all even numbers: 812\n"
          ]
        }
      ],
      "source": [
        "n = int(input(\"Enter a positive integer: \"))\n",
        "even_sum = sum(i for i in range(2, n + 1, 2))\n",
        "print(\"Sum of all even numbers:\", even_sum)\n"
      ]
    },
    {
      "cell_type": "code",
      "source": [],
      "metadata": {
        "id": "NkHPCs3isukl"
      },
      "execution_count": 4,
      "outputs": []
    }
  ]
}