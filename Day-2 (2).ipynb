{
  "nbformat": 4,
  "nbformat_minor": 0,
  "metadata": {
    "colab": {
      "provenance": []
    },
    "kernelspec": {
      "name": "python3",
      "display_name": "Python 3"
    },
    "language_info": {
      "name": "python"
    }
  },
  "cells": [
    {
      "cell_type": "code",
      "execution_count": 2,
      "metadata": {
        "colab": {
          "base_uri": "https://localhost:8080/"
        },
        "id": "6zQ_IudQzWMo",
        "outputId": "d54fafef-c1e5-4498-a5df-cb21a8098504"
      },
      "outputs": [
        {
          "output_type": "stream",
          "name": "stdout",
          "text": [
            "List: [10, 20, 30, 40, 50]\n",
            "First element of List: 10\n",
            "Third element of List: 30\n",
            "Last element of List: 50\n",
            "\n",
            "Tuple: (1, 2, 3, 4, 5)\n",
            "First element of Tuple: 1\n",
            "Fourth element of Tuple: 4\n",
            "Last element of Tuple: 5\n",
            "\n",
            "Dictionary: {'name': 'Charan', 'age': 25, 'city': 'HYD', 'job': 'Engineer', 'hobby': 'Painting'}\n",
            "Value associated with key 'name': Charan\n",
            "Value associated with key 'age': 25\n",
            "Value associated with key 'city': HYD\n"
          ]
        }
      ],
      "source": [
        "my_list = [10, 20, 30, 40, 50]\n",
        "print(\"List:\", my_list)\n",
        "print(\"First element of List:\", my_list[0])\n",
        "print(\"Third element of List:\", my_list[2])\n",
        "print(\"Last element of List:\", my_list[-1])\n",
        "\n",
        "my_tuple = (1, 2, 3, 4, 5)\n",
        "print(\"\\nTuple:\", my_tuple)\n",
        "print(\"First element of Tuple:\", my_tuple[0])\n",
        "print(\"Fourth element of Tuple:\", my_tuple[3])\n",
        "print(\"Last element of Tuple:\", my_tuple[-1])\n",
        "\n",
        "my_dict = {\n",
        "    'name': 'Charan',\n",
        "    'age': 25,\n",
        "    'city': 'HYD',\n",
        "    'job': 'Engineer',\n",
        "    'hobby': 'Painting'\n",
        "}\n",
        "print(\"\\nDictionary:\", my_dict)\n",
        "print(\"Value associated with key 'name':\", my_dict['name'])\n",
        "print(\"Value associated with key 'age':\", my_dict['age'])\n",
        "print(\"Value associated with key 'city':\", my_dict['city'])"
      ]
    }
  ]
}